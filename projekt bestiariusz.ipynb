{
 "cells": [
  {
   "cell_type": "markdown",
   "id": "71f5009c",
   "metadata": {},
   "source": [
    "Projekt: \"Bestiariusz Magiczny\" system zarządzania magicznymi stworzeniami\n",
    "\n",
    "Weronika Żukowska 82574"
   ]
  },
  {
   "cell_type": "markdown",
   "id": "83802e40",
   "metadata": {},
   "source": [
    "Klasa abstrakcyjna `Magiczne Stworzenia`\n",
    "w tej komórce tworzymy bazową klasę abstrakcyjną `Magiczne Stworzenia`. Każde stworzenia będzie miało imię, siłę oraz ilość hp (poziom zdrowia). Dodajemy tez metodę abstrakcyjną `atak()`, którą muszą zaimplementować wszystkie klasy dziedziczące."
   ]
  },
  {
   "cell_type": "code",
   "execution_count": 108,
   "id": "48cb67a0",
   "metadata": {},
   "outputs": [],
   "source": [
    "from abc import ABC, abstractmethod\n",
    "\n",
    "class Magiczne_Stworzenia(ABC):\n",
    "    def __init__(self, imie, sila, ilosc_hp):\n",
    "        self.imie = imie\n",
    "        self.sila = sila\n",
    "        self.ilosc_hp = ilosc_hp\n",
    "\n",
    "    def atak(self):\n",
    "        pass"
   ]
  },
  {
   "cell_type": "markdown",
   "id": "bbf29a56",
   "metadata": {},
   "source": [
    "Weronika Żukowska 82574"
   ]
  },
  {
   "cell_type": "markdown",
   "id": "18c98ede",
   "metadata": {},
   "source": [
    "Klasy dziedziczące `Smok` i `Wilkołak` w tej komórce tworzymy 2 klasy, które dziedziczą po `Magiczne Stworzenia`; Smok ma dodatkowy atrybut w postaci `zianie_ogniem` i jego atak polega właśnie na tym, że zieje ogniem. Wilkołak za to ma dodatkowy atrybut w postaci `przemiana` i po przemianie jego atak wzrasta 5x.\n",
    "Obie klasy muszą zaimplementowac metodę `atak()` bo jest to metoda abstrakcyjna w klasie bazowej."
   ]
  },
  {
   "cell_type": "code",
   "execution_count": 109,
   "id": "4d073d89",
   "metadata": {},
   "outputs": [],
   "source": [
    "class Smok(Magiczne_Stworzenia):\n",
    "    def __init__(self, imie, sila, ilosc_hp, zianie_ogniem):\n",
    "        super().__init__(imie, sila, ilosc_hp)\n",
    "        self.zianie_ogniem = zianie_ogniem\n",
    "\n",
    "    def atak(self):\n",
    "        return f\"{self.imie} zieje ogniem z siłą {self.sila + self.zianie_ogniem}!\"\n",
    "    \n",
    "class Wilkolak(Magiczne_Stworzenia):\n",
    "    def __init__(self, imie, sila, ilosc_hp, przemiana):\n",
    "        super().__init__(imie, sila, ilosc_hp)\n",
    "        self.przemiana = przemiana\n",
    "\n",
    "    def atak(self):\n",
    "        return f\"{self.imie} atakuje z siłą {self.sila *5} wtedy gdy zmienia się w {self.przemiana}!\""
   ]
  },
  {
   "cell_type": "markdown",
   "id": "4e25b5d7",
   "metadata": {},
   "source": [
    "Weronika Żukowska 82574"
   ]
  },
  {
   "cell_type": "markdown",
   "id": "74c598d1",
   "metadata": {},
   "source": [
    "Klasa Lokalizacja oraz Klasa `Misja`\n",
    "\n",
    "W tej komórce definiujemy klasę `Lokalizacja`, która opisuje miejsce, w którym dzieje się akcja misji.  \n",
    "Każda lokacja ma swoją nazwę oraz poziom niebezpieczeństwa w skali od 1 do 10.  \n",
    "Dodaliśmy metodę `__str__()`, żeby można było czytelnie wypisywać informacje o danym miejscu.\n",
    "\n",
    "Oraz tworzymy klasę `Misja`, która łączy stworzenie (np. smoka) z miejscem (lokalizacją).  \n",
    "Dzięki temu pokazujemy, że rozumiemy **kompozycję** – misja składa się z innych obiektów.  \n",
    "Dodaliśmy też metody:\n",
    "- `rozpocznij()` – wypisuje rozpoczęcie misji,\n",
    "- `opis()` – pokazuje, kto się gdzie ukrywa,\n"
   ]
  },
  {
   "cell_type": "code",
   "execution_count": 110,
   "id": "8e446bd0",
   "metadata": {},
   "outputs": [],
   "source": [
    "class Lokalizacja:\n",
    "    def __init__(self, nazwa, poziom_niebezpieczenstwa):\n",
    "        self.nazwa = nazwa\n",
    "        self.poziom_niebezpieczenstwa = poziom_niebezpieczenstwa\n",
    "\n",
    "    def __str__(self):\n",
    "        return f\"{self.nazwa} (niebezpieczeństwo: {self.poziom_niebezpieczenstwa}/10)\"\n",
    "\n",
    "class Misja:\n",
    "    def __init__(self, tytul, stworzenie, lokalizacja):\n",
    "        self.tytul = tytul\n",
    "        self.stworzenie = stworzenie\n",
    "        self.lokalizacja = lokalizacja\n",
    "\n",
    "    def rozpocznij(self):\n",
    "        return f\"Misja {self.tytul} w lokalizacji {self.lokalizacja} - przeciwnik: {self.stworzenie.imie}\"\n",
    "    \n",
    "    def opis(self):\n",
    "        return f\"{self.stworzenie.imie} ukrywa się w miejscu o niebezpieczeństwie {self.lokalizacja.poziom_niebezpieczenstwa}/10.)\""
   ]
  },
  {
   "cell_type": "markdown",
   "id": "e8d61a8a",
   "metadata": {},
   "source": [
    "Weronika Żukowska 82574"
   ]
  },
  {
   "cell_type": "markdown",
   "id": "44e8dd05",
   "metadata": {},
   "source": [
    "Tworzenie obiektów i stestowanie działania:\n",
    "\n",
    "W następujących 2 komórkach tworzymy konkretne obiekty klasy smok, wilkolak oraz lokalizacja i przypisujemy je do misji. Na końcu używamy `print()` by sprawdzic czy wszystko działa poprawnie i czy informacje wyświetlają się zgodnie z oczekiwaniami."
   ]
  },
  {
   "cell_type": "code",
   "execution_count": 111,
   "id": "1a3afa46",
   "metadata": {},
   "outputs": [
    {
     "name": "stdout",
     "output_type": "stream",
     "text": [
      "--- TEST ATAKU ---\n",
      "Drogon zieje ogniem z siłą 175!\n",
      "Alfa atakuje z siłą 250 wtedy gdy zmienia się w wilkolaka!\n"
     ]
    }
   ],
   "source": [
    "smok1 = Smok(imie=\"Drogon\", sila=100, ilosc_hp=500, zianie_ogniem=75)\n",
    "wilkolak1 = Wilkolak(imie=\"Alfa\", sila=50, ilosc_hp=200, przemiana=\"wilkolaka\")\n",
    "\n",
    "print(\"--- TEST ATAKU ---\")\n",
    "print(smok1.atak())\n",
    "print(wilkolak1.atak())"
   ]
  },
  {
   "cell_type": "code",
   "execution_count": 112,
   "id": "75bf7cdb",
   "metadata": {},
   "outputs": [
    {
     "name": "stdout",
     "output_type": "stream",
     "text": [
      "--- START MISJI ---\n",
      "Misja Walka z Ogniem w lokalizacji Jaskinia Wiecznego Złota (niebezpieczeństwo: 9/10) - przeciwnik: Drogon\n",
      "Drogon ukrywa się w miejscu o niebezpieczeństwie 9/10.)\n"
     ]
    }
   ],
   "source": [
    "lokalizacja1 = Lokalizacja(\"Jaskinia Wiecznego Złota\", 9)\n",
    "misja1 = Misja(\"Walka z Ogniem\", smok1, lokalizacja1)\n",
    "\n",
    "print(\"--- START MISJI ---\")\n",
    "\n",
    "print(misja1.rozpocznij())\n",
    "\n",
    "print(misja1.opis())"
   ]
  }
 ],
 "metadata": {
  "kernelspec": {
   "display_name": "base",
   "language": "python",
   "name": "python3"
  },
  "language_info": {
   "codemirror_mode": {
    "name": "ipython",
    "version": 3
   },
   "file_extension": ".py",
   "mimetype": "text/x-python",
   "name": "python",
   "nbconvert_exporter": "python",
   "pygments_lexer": "ipython3",
   "version": "3.12.4"
  }
 },
 "nbformat": 4,
 "nbformat_minor": 5
}
